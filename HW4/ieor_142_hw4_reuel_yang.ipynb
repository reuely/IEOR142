{
  "cells": [
    {
      "cell_type": "markdown",
      "id": "8951d5f5",
      "metadata": {
        "id": "8951d5f5"
      },
      "source": [
        "# IEOR 142 HW4 Starter Code — Fall 2023"
      ]
    },
    {
      "cell_type": "code",
      "execution_count": 22,
      "id": "80e3964a",
      "metadata": {
        "code_folding": [],
        "id": "80e3964a"
      },
      "outputs": [],
      "source": [
        "# Dependencies\n",
        "import pandas as pd\n",
        "import numpy as np\n",
        "import matplotlib.pyplot as plt\n",
        "import seaborn as sns\n",
        "import sklearn\n",
        "import sklearn.datasets\n",
        "from sklearn.tree import plot_tree\n",
        "from sklearn.metrics import confusion_matrix\n",
        "from sklearn.metrics import precision_score\n",
        "from sklearn.metrics import recall_score\n",
        "from sklearn.tree import DecisionTreeRegressor\n",
        "from sklearn.model_selection import train_test_split\n",
        "from sklearn.model_selection import GridSearchCV\n",
        "from sklearn.metrics import make_scorer\n",
        "import statsmodels.formula.api as smf\n",
        "from sklearn.tree import DecisionTreeClassifier\n",
        "from sklearn.metrics import mean_absolute_error\n",
        "from sklearn.metrics import roc_curve, auc\n",
        "from sklearn.ensemble import RandomForestClassifier\n",
        "from sklearn.discriminant_analysis import LinearDiscriminantAnalysis\n",
        "from sklearn.ensemble import GradientBoostingClassifier"
      ]
    },
    {
      "cell_type": "code",
      "execution_count": 23,
      "id": "1267ae20",
      "metadata": {
        "code_folding": [],
        "id": "1267ae20"
      },
      "outputs": [],
      "source": [
        "# Load in data\n",
        "train = pd.read_csv('Letters_train.csv', index_col = 0)\n",
        "test = pd.read_csv('Letters_test.csv', index_col = 0)\n",
        "# TODO: Load in data (after analyzing the dataset, delete any ouputs such as df.inf(), df.head(), et).\n",
        "# this cell should not output anything"
      ]
    },
    {
      "cell_type": "markdown",
      "id": "86d6a9df",
      "metadata": {
        "id": "86d6a9df"
      },
      "source": [
        "# Question 2 (25 points)"
      ]
    },
    {
      "cell_type": "code",
      "execution_count": 24,
      "id": "73e377b6",
      "metadata": {
        "code_folding": [],
        "id": "73e377b6"
      },
      "outputs": [],
      "source": [
        "# TODO: Create new variable here\n",
        "train['isB'] = train['letter'].map(lambda x: 'Yes' if x == 'B' else 'No')\n",
        "test['isB'] = test['letter'].map(lambda x: 'Yes' if x == 'B' else 'No')"
      ]
    },
    {
      "cell_type": "code",
      "execution_count": 25,
      "id": "039a5cd0",
      "metadata": {
        "code_folding": [],
        "id": "039a5cd0"
      },
      "outputs": [],
      "source": [
        "# TODO: Split into X and y"
      ]
    },
    {
      "cell_type": "markdown",
      "id": "a7c2e726",
      "metadata": {
        "id": "a7c2e726"
      },
      "source": [
        "### Part A: Baseline Model (3 points)"
      ]
    },
    {
      "cell_type": "code",
      "execution_count": 26,
      "id": "a5a6931e",
      "metadata": {
        "code_folding": [
          0
        ],
        "id": "a5a6931e",
        "colab": {
          "base_uri": "https://localhost:8080/"
        },
        "outputId": "a596d7d5-d065-47df-d2b0-16fbf381e8a2"
      },
      "outputs": [
        {
          "output_type": "stream",
          "name": "stdout",
          "text": [
            "Baseline Test Accuracy: 0.7743\n"
          ]
        }
      ],
      "source": [
        "# Q1A code\n",
        "y_test = test['isB']\n",
        "baseline_pred = np.repeat('No', len(test))\n",
        "cm1 = confusion_matrix(baseline_pred, y_test)\n",
        "TN = cm1.ravel()[0]\n",
        "FP = cm1.ravel()[1]\n",
        "FN = cm1.ravel()[2]\n",
        "TP = cm1.ravel()[3]\n",
        "accuracy = (TP + TN) / (TP + TN + FN + FP)\n",
        "#TODO: find the most common label\n",
        "\n",
        "baseline_1_acc = accuracy # TODO: calcuate baseline accuracy\n",
        "print(f'Baseline Test Accuracy: {baseline_1_acc:.4f}')"
      ]
    },
    {
      "cell_type": "markdown",
      "id": "eb0f7dca",
      "metadata": {
        "id": "eb0f7dca"
      },
      "source": [
        "### Part B: Logistic Regression (5 points)"
      ]
    },
    {
      "cell_type": "code",
      "execution_count": 28,
      "id": "7fba5965",
      "metadata": {
        "code_folding": [
          0
        ],
        "id": "7fba5965",
        "colab": {
          "base_uri": "https://localhost:8080/"
        },
        "outputId": "fa1d5b05-8283-4c85-9265-865b12a63c69"
      },
      "outputs": [
        {
          "output_type": "stream",
          "name": "stdout",
          "text": [
            "Optimization terminated successfully.\n",
            "         Current function value: 0.159344\n",
            "         Iterations 10\n",
            "Logistic Regression Test Accuracy: 0.9401\n"
          ]
        }
      ],
      "source": [
        "# Q1B code\n",
        "letters_train_dummies = pd.get_dummies(train, drop_first = True)\n",
        "letters_test_dummies = pd.get_dummies(test, drop_first = True)\n",
        "letters_train_dummies = letters_train_dummies.rename(columns = {'isB_Yes' : 'isB'})\n",
        "letters_test_dummies = letters_test_dummies.rename(columns = {'isB_Yes' : 'isB'})\n",
        "letters_train_dummies = letters_train_dummies.drop(columns = {'letter_B', 'letter_P', 'letter_R'})\n",
        "letters_test_dummies = letters_test_dummies.drop(columns = {'letter_B', 'letter_P', 'letter_R'})\n",
        "\n",
        "\n",
        "logreg1 = smf.logit(formula = 'isB ~ xbox + ybox + width + height + onpix + xbar + ybar + x2bar + y2bar + xybar + x2ybar + xy2bar + xedge + xedgeycor + yedge + yedgexcor', data = letters_train_dummies).fit()\n",
        "y_test2 = letters_test_dummies['isB']\n",
        "\n",
        "log_mod_predictions = logreg1.predict(test)\n",
        "log_mod_pred = pd.Series([1 if x > 0.5 else 0 for x in log_mod_predictions])\n",
        "\n",
        "cm2 = confusion_matrix(log_mod_pred, y_test2)\n",
        "TN2 = cm2.ravel()[0]\n",
        "FP2 = cm2.ravel()[1]\n",
        "FN2 = cm2.ravel()[2]\n",
        "TP2 = cm2.ravel()[3]\n",
        "log_model_acc = (TP2 + TN2) / (TP2 + TN2 + FN2 + FP2)\n",
        "# TODO: For all questions: Create and train model, then make predictions, then calculate accuracy\n",
        "\n",
        "model_1b_acc = log_model_acc\n",
        "print(f'Logistic Regression Test Accuracy: {model_1b_acc:.4f}')"
      ]
    },
    {
      "cell_type": "markdown",
      "id": "7495157d",
      "metadata": {
        "id": "7495157d"
      },
      "source": [
        "### Part C: AUC (2 point)"
      ]
    },
    {
      "cell_type": "code",
      "execution_count": 35,
      "id": "94594df9",
      "metadata": {
        "code_folding": [
          0
        ],
        "id": "94594df9",
        "colab": {
          "base_uri": "https://localhost:8080/"
        },
        "outputId": "bbcada23-7dce-4ec7-8c70-15d38bded6ec"
      },
      "outputs": [
        {
          "output_type": "stream",
          "name": "stdout",
          "text": [
            "Logistic Regression Test AUC: 0.9210\n"
          ]
        }
      ],
      "source": [
        "# Q1C code\n",
        "fpr, tpr, _ = roc_curve(y_test2, log_mod_pred)\n",
        "model_1b_auc = auc(fpr, tpr)\n",
        "print(f'Logistic Regression Test AUC: {model_1b_auc:.4f}')"
      ]
    },
    {
      "cell_type": "markdown",
      "id": "ba75df07",
      "metadata": {
        "id": "ba75df07"
      },
      "source": [
        "### Part D: Cross-validated CART (5 points)"
      ]
    },
    {
      "cell_type": "markdown",
      "id": "a6132e51",
      "metadata": {
        "id": "a6132e51"
      },
      "source": [
        "**Written Answer**: In order to find the complexity parameter value that would optimize the accuracy of my model, I used GridSearchCV. First, I tested every value from np.linespace(0, 0.1, 200) and put the values in the dataframe to check for the best ccp_alpha that returns the best accuracy. I used ten folds for cross-validation because the dataset was big and the returned chart showed the ccp_alpha value of 0.001508 gave the best accuracy of 0.9294. However I also used .best_estimator_ to let it choose the best ccp_alpha realized it also chose a very similar value (practically same) of 0.0015. The accuracy returned from using 0.001508 was 0.9283 and the accuracy returned from using 0.0015 was 0.9305 so I concluded that ccp_alpha of 0.0015 returns the best accuracy of 0.9305."
      ]
    },
    {
      "cell_type": "code",
      "source": [
        "letters_train_dummies = pd.get_dummies(train, drop_first = True)\n",
        "letters_test_dummies = pd.get_dummies(test, drop_first = True)\n",
        "letters_train_dummies = letters_train_dummies.rename(columns = {'isB_Yes' : 'isB'})\n",
        "letters_test_dummies = letters_test_dummies.rename(columns = {'isB_Yes' : 'isB'})\n",
        "letters_train_dummies = letters_train_dummies.drop(columns = {'letter_B', 'letter_P', 'letter_R'})\n",
        "letters_test_dummies = letters_test_dummies.drop(columns = {'letter_B', 'letter_P', 'letter_R'})\n",
        "x_train = letters_train_dummies.iloc[:, 0: 16]\n",
        "x_test = letters_test_dummies.iloc[:, 0: 16]\n",
        "y_train = letters_train_dummies['isB']\n",
        "y_test = letters_test_dummies['isB']"
      ],
      "metadata": {
        "id": "IlO7f1qCT9E7"
      },
      "id": "IlO7f1qCT9E7",
      "execution_count": 36,
      "outputs": []
    },
    {
      "cell_type": "code",
      "source": [
        "dtc = DecisionTreeClassifier()\n",
        "grid_values = {'ccp_alpha': np.linspace(0, 0.1, 200),\n",
        "               'min_samples_leaf': [5],\n",
        "               'min_samples_split': [20],\n",
        "               'random_state': [2023]}\n",
        "dtc_cv = GridSearchCV(dtc, param_grid = grid_values, scoring = 'accuracy', cv=10, verbose=0).fit(x_train, y_train)\n",
        "acc = dtc_cv.cv_results_['mean_test_score']\n",
        "ccp = dtc_cv.cv_results_['param_ccp_alpha'].data"
      ],
      "metadata": {
        "id": "u_Re9jO9UB9r"
      },
      "id": "u_Re9jO9UB9r",
      "execution_count": 37,
      "outputs": []
    },
    {
      "cell_type": "code",
      "source": [
        "pd.DataFrame({'ccp alpha' : ccp, 'Validation Accuracy': acc}).sort_values(by='Validation Accuracy', ascending=False).head(5)"
      ],
      "metadata": {
        "colab": {
          "base_uri": "https://localhost:8080/",
          "height": 206
        },
        "id": "mJHUzbIxksX0",
        "outputId": "5fec4dac-de9e-4301-fe2e-735f443515ad"
      },
      "id": "mJHUzbIxksX0",
      "execution_count": 38,
      "outputs": [
        {
          "output_type": "execute_result",
          "data": {
            "text/plain": [
              "  ccp alpha  Validation Accuracy\n",
              "3  0.001508             0.929396\n",
              "4   0.00201             0.928939\n",
              "8   0.00402             0.928017\n",
              "5  0.002513             0.926645\n",
              "9  0.004523             0.926641"
            ],
            "text/html": [
              "\n",
              "  <div id=\"df-676d2e7d-94af-46d1-b207-dec65d00e921\" class=\"colab-df-container\">\n",
              "    <div>\n",
              "<style scoped>\n",
              "    .dataframe tbody tr th:only-of-type {\n",
              "        vertical-align: middle;\n",
              "    }\n",
              "\n",
              "    .dataframe tbody tr th {\n",
              "        vertical-align: top;\n",
              "    }\n",
              "\n",
              "    .dataframe thead th {\n",
              "        text-align: right;\n",
              "    }\n",
              "</style>\n",
              "<table border=\"1\" class=\"dataframe\">\n",
              "  <thead>\n",
              "    <tr style=\"text-align: right;\">\n",
              "      <th></th>\n",
              "      <th>ccp alpha</th>\n",
              "      <th>Validation Accuracy</th>\n",
              "    </tr>\n",
              "  </thead>\n",
              "  <tbody>\n",
              "    <tr>\n",
              "      <th>3</th>\n",
              "      <td>0.001508</td>\n",
              "      <td>0.929396</td>\n",
              "    </tr>\n",
              "    <tr>\n",
              "      <th>4</th>\n",
              "      <td>0.00201</td>\n",
              "      <td>0.928939</td>\n",
              "    </tr>\n",
              "    <tr>\n",
              "      <th>8</th>\n",
              "      <td>0.00402</td>\n",
              "      <td>0.928017</td>\n",
              "    </tr>\n",
              "    <tr>\n",
              "      <th>5</th>\n",
              "      <td>0.002513</td>\n",
              "      <td>0.926645</td>\n",
              "    </tr>\n",
              "    <tr>\n",
              "      <th>9</th>\n",
              "      <td>0.004523</td>\n",
              "      <td>0.926641</td>\n",
              "    </tr>\n",
              "  </tbody>\n",
              "</table>\n",
              "</div>\n",
              "    <div class=\"colab-df-buttons\">\n",
              "\n",
              "  <div class=\"colab-df-container\">\n",
              "    <button class=\"colab-df-convert\" onclick=\"convertToInteractive('df-676d2e7d-94af-46d1-b207-dec65d00e921')\"\n",
              "            title=\"Convert this dataframe to an interactive table.\"\n",
              "            style=\"display:none;\">\n",
              "\n",
              "  <svg xmlns=\"http://www.w3.org/2000/svg\" height=\"24px\" viewBox=\"0 -960 960 960\">\n",
              "    <path d=\"M120-120v-720h720v720H120Zm60-500h600v-160H180v160Zm220 220h160v-160H400v160Zm0 220h160v-160H400v160ZM180-400h160v-160H180v160Zm440 0h160v-160H620v160ZM180-180h160v-160H180v160Zm440 0h160v-160H620v160Z\"/>\n",
              "  </svg>\n",
              "    </button>\n",
              "\n",
              "  <style>\n",
              "    .colab-df-container {\n",
              "      display:flex;\n",
              "      gap: 12px;\n",
              "    }\n",
              "\n",
              "    .colab-df-convert {\n",
              "      background-color: #E8F0FE;\n",
              "      border: none;\n",
              "      border-radius: 50%;\n",
              "      cursor: pointer;\n",
              "      display: none;\n",
              "      fill: #1967D2;\n",
              "      height: 32px;\n",
              "      padding: 0 0 0 0;\n",
              "      width: 32px;\n",
              "    }\n",
              "\n",
              "    .colab-df-convert:hover {\n",
              "      background-color: #E2EBFA;\n",
              "      box-shadow: 0px 1px 2px rgba(60, 64, 67, 0.3), 0px 1px 3px 1px rgba(60, 64, 67, 0.15);\n",
              "      fill: #174EA6;\n",
              "    }\n",
              "\n",
              "    .colab-df-buttons div {\n",
              "      margin-bottom: 4px;\n",
              "    }\n",
              "\n",
              "    [theme=dark] .colab-df-convert {\n",
              "      background-color: #3B4455;\n",
              "      fill: #D2E3FC;\n",
              "    }\n",
              "\n",
              "    [theme=dark] .colab-df-convert:hover {\n",
              "      background-color: #434B5C;\n",
              "      box-shadow: 0px 1px 3px 1px rgba(0, 0, 0, 0.15);\n",
              "      filter: drop-shadow(0px 1px 2px rgba(0, 0, 0, 0.3));\n",
              "      fill: #FFFFFF;\n",
              "    }\n",
              "  </style>\n",
              "\n",
              "    <script>\n",
              "      const buttonEl =\n",
              "        document.querySelector('#df-676d2e7d-94af-46d1-b207-dec65d00e921 button.colab-df-convert');\n",
              "      buttonEl.style.display =\n",
              "        google.colab.kernel.accessAllowed ? 'block' : 'none';\n",
              "\n",
              "      async function convertToInteractive(key) {\n",
              "        const element = document.querySelector('#df-676d2e7d-94af-46d1-b207-dec65d00e921');\n",
              "        const dataTable =\n",
              "          await google.colab.kernel.invokeFunction('convertToInteractive',\n",
              "                                                    [key], {});\n",
              "        if (!dataTable) return;\n",
              "\n",
              "        const docLinkHtml = 'Like what you see? Visit the ' +\n",
              "          '<a target=\"_blank\" href=https://colab.research.google.com/notebooks/data_table.ipynb>data table notebook</a>'\n",
              "          + ' to learn more about interactive tables.';\n",
              "        element.innerHTML = '';\n",
              "        dataTable['output_type'] = 'display_data';\n",
              "        await google.colab.output.renderOutput(dataTable, element);\n",
              "        const docLink = document.createElement('div');\n",
              "        docLink.innerHTML = docLinkHtml;\n",
              "        element.appendChild(docLink);\n",
              "      }\n",
              "    </script>\n",
              "  </div>\n",
              "\n",
              "\n",
              "<div id=\"df-1e61fccb-9c2d-497b-9b77-cd8a39a18f6a\">\n",
              "  <button class=\"colab-df-quickchart\" onclick=\"quickchart('df-1e61fccb-9c2d-497b-9b77-cd8a39a18f6a')\"\n",
              "            title=\"Suggest charts\"\n",
              "            style=\"display:none;\">\n",
              "\n",
              "<svg xmlns=\"http://www.w3.org/2000/svg\" height=\"24px\"viewBox=\"0 0 24 24\"\n",
              "     width=\"24px\">\n",
              "    <g>\n",
              "        <path d=\"M19 3H5c-1.1 0-2 .9-2 2v14c0 1.1.9 2 2 2h14c1.1 0 2-.9 2-2V5c0-1.1-.9-2-2-2zM9 17H7v-7h2v7zm4 0h-2V7h2v10zm4 0h-2v-4h2v4z\"/>\n",
              "    </g>\n",
              "</svg>\n",
              "  </button>\n",
              "\n",
              "<style>\n",
              "  .colab-df-quickchart {\n",
              "      --bg-color: #E8F0FE;\n",
              "      --fill-color: #1967D2;\n",
              "      --hover-bg-color: #E2EBFA;\n",
              "      --hover-fill-color: #174EA6;\n",
              "      --disabled-fill-color: #AAA;\n",
              "      --disabled-bg-color: #DDD;\n",
              "  }\n",
              "\n",
              "  [theme=dark] .colab-df-quickchart {\n",
              "      --bg-color: #3B4455;\n",
              "      --fill-color: #D2E3FC;\n",
              "      --hover-bg-color: #434B5C;\n",
              "      --hover-fill-color: #FFFFFF;\n",
              "      --disabled-bg-color: #3B4455;\n",
              "      --disabled-fill-color: #666;\n",
              "  }\n",
              "\n",
              "  .colab-df-quickchart {\n",
              "    background-color: var(--bg-color);\n",
              "    border: none;\n",
              "    border-radius: 50%;\n",
              "    cursor: pointer;\n",
              "    display: none;\n",
              "    fill: var(--fill-color);\n",
              "    height: 32px;\n",
              "    padding: 0;\n",
              "    width: 32px;\n",
              "  }\n",
              "\n",
              "  .colab-df-quickchart:hover {\n",
              "    background-color: var(--hover-bg-color);\n",
              "    box-shadow: 0 1px 2px rgba(60, 64, 67, 0.3), 0 1px 3px 1px rgba(60, 64, 67, 0.15);\n",
              "    fill: var(--button-hover-fill-color);\n",
              "  }\n",
              "\n",
              "  .colab-df-quickchart-complete:disabled,\n",
              "  .colab-df-quickchart-complete:disabled:hover {\n",
              "    background-color: var(--disabled-bg-color);\n",
              "    fill: var(--disabled-fill-color);\n",
              "    box-shadow: none;\n",
              "  }\n",
              "\n",
              "  .colab-df-spinner {\n",
              "    border: 2px solid var(--fill-color);\n",
              "    border-color: transparent;\n",
              "    border-bottom-color: var(--fill-color);\n",
              "    animation:\n",
              "      spin 1s steps(1) infinite;\n",
              "  }\n",
              "\n",
              "  @keyframes spin {\n",
              "    0% {\n",
              "      border-color: transparent;\n",
              "      border-bottom-color: var(--fill-color);\n",
              "      border-left-color: var(--fill-color);\n",
              "    }\n",
              "    20% {\n",
              "      border-color: transparent;\n",
              "      border-left-color: var(--fill-color);\n",
              "      border-top-color: var(--fill-color);\n",
              "    }\n",
              "    30% {\n",
              "      border-color: transparent;\n",
              "      border-left-color: var(--fill-color);\n",
              "      border-top-color: var(--fill-color);\n",
              "      border-right-color: var(--fill-color);\n",
              "    }\n",
              "    40% {\n",
              "      border-color: transparent;\n",
              "      border-right-color: var(--fill-color);\n",
              "      border-top-color: var(--fill-color);\n",
              "    }\n",
              "    60% {\n",
              "      border-color: transparent;\n",
              "      border-right-color: var(--fill-color);\n",
              "    }\n",
              "    80% {\n",
              "      border-color: transparent;\n",
              "      border-right-color: var(--fill-color);\n",
              "      border-bottom-color: var(--fill-color);\n",
              "    }\n",
              "    90% {\n",
              "      border-color: transparent;\n",
              "      border-bottom-color: var(--fill-color);\n",
              "    }\n",
              "  }\n",
              "</style>\n",
              "\n",
              "  <script>\n",
              "    async function quickchart(key) {\n",
              "      const quickchartButtonEl =\n",
              "        document.querySelector('#' + key + ' button');\n",
              "      quickchartButtonEl.disabled = true;  // To prevent multiple clicks.\n",
              "      quickchartButtonEl.classList.add('colab-df-spinner');\n",
              "      try {\n",
              "        const charts = await google.colab.kernel.invokeFunction(\n",
              "            'suggestCharts', [key], {});\n",
              "      } catch (error) {\n",
              "        console.error('Error during call to suggestCharts:', error);\n",
              "      }\n",
              "      quickchartButtonEl.classList.remove('colab-df-spinner');\n",
              "      quickchartButtonEl.classList.add('colab-df-quickchart-complete');\n",
              "    }\n",
              "    (() => {\n",
              "      let quickchartButtonEl =\n",
              "        document.querySelector('#df-1e61fccb-9c2d-497b-9b77-cd8a39a18f6a button');\n",
              "      quickchartButtonEl.style.display =\n",
              "        google.colab.kernel.accessAllowed ? 'block' : 'none';\n",
              "    })();\n",
              "  </script>\n",
              "</div>\n",
              "    </div>\n",
              "  </div>\n"
            ]
          },
          "metadata": {},
          "execution_count": 38
        }
      ]
    },
    {
      "cell_type": "code",
      "source": [
        "dtc_test = DecisionTreeClassifier(ccp_alpha=0.001508,\n",
        "                              random_state = 2023)\n",
        "dtc_test = dtc_test.fit(x_train, y_train)\n",
        "y_pred_dtc_test = dtc_test.predict(x_test)\n",
        "dec_tree_cm = confusion_matrix(y_test, y_pred_dtc_test)\n",
        "TN3 = dec_tree_cm.ravel()[0]\n",
        "FP3 = dec_tree_cm.ravel()[1]\n",
        "FN3 = dec_tree_cm.ravel()[2]\n",
        "TP3 = dec_tree_cm.ravel()[3]\n",
        "accuracy = (TP3 + TN3) / (TP3 + TN3 + FN3 + FP3)\n",
        "print(accuracy)"
      ],
      "metadata": {
        "colab": {
          "base_uri": "https://localhost:8080/"
        },
        "id": "3WOMtT46BmCi",
        "outputId": "4f4188ba-702e-4762-a3a0-0d7a1ec1b589"
      },
      "id": "3WOMtT46BmCi",
      "execution_count": 41,
      "outputs": [
        {
          "output_type": "stream",
          "name": "stdout",
          "text": [
            "0.9283422459893048\n"
          ]
        }
      ]
    },
    {
      "cell_type": "code",
      "execution_count": 42,
      "id": "dee59e95",
      "metadata": {
        "code_folding": [
          0
        ],
        "id": "dee59e95",
        "colab": {
          "base_uri": "https://localhost:8080/"
        },
        "outputId": "be4bd314-0398-4f28-d137-c69ce93faaa3"
      },
      "outputs": [
        {
          "output_type": "stream",
          "name": "stdout",
          "text": [
            "CV CART Test Accuracy: 0.9305\n",
            "Best ccp_alpha: 0.0015\n"
          ]
        }
      ],
      "source": [
        "# Q1D Code\n",
        "dec_tree_pred = dtc_cv.best_estimator_.predict(x_test)\n",
        "dec_tree_cm2 = confusion_matrix(y_test, dec_tree_pred)\n",
        "TN3 = dec_tree_cm2.ravel()[0]\n",
        "FP3 = dec_tree_cm2.ravel()[1]\n",
        "FN3 = dec_tree_cm2.ravel()[2]\n",
        "TP3 = dec_tree_cm2.ravel()[3]\n",
        "accuracy = (TP3 + TN3) / (TP3 + TN3 + FN3 + FP3)\n",
        "model_1d_acc = accuracy\n",
        "model_1d_best_ccp_alpha = dtc_cv.best_params_['ccp_alpha']\n",
        "print(f'CV CART Test Accuracy: {model_1d_acc:.4f}')\n",
        "print(f'Best ccp_alpha: {model_1d_best_ccp_alpha:.4f}')"
      ]
    },
    {
      "cell_type": "markdown",
      "id": "f65edd8a",
      "metadata": {
        "id": "f65edd8a"
      },
      "source": [
        "### Part E: Random Forest (5 points)\n"
      ]
    },
    {
      "cell_type": "code",
      "execution_count": 51,
      "id": "28f7acb2",
      "metadata": {
        "code_folding": [
          0
        ],
        "id": "28f7acb2",
        "colab": {
          "base_uri": "https://localhost:8080/"
        },
        "outputId": "9881d672-4812-4039-e96d-980c2247d6c1"
      },
      "outputs": [
        {
          "output_type": "stream",
          "name": "stdout",
          "text": [
            "Random Forest Test Accuracy: 0.9850\n"
          ]
        }
      ],
      "source": [
        "# Q1E Code\n",
        "rf = RandomForestClassifier()\n",
        "rf.fit(x_train, y_train)\n",
        "rf_pred = rf.predict(x_test)\n",
        "rf_cm = confusion_matrix(y_test, rf_pred)\n",
        "TN4 = rf_cm.ravel()[0]\n",
        "FP4 = rf_cm.ravel()[1]\n",
        "FN4 = rf_cm.ravel()[2]\n",
        "TP4 = rf_cm.ravel()[3]\n",
        "accuracy = (TP4 + TN4) / (TP4 + TN4 + FN4 + FP4)\n",
        "\n",
        "model_1e_acc = accuracy\n",
        "print(f'Random Forest Test Accuracy: {model_1e_acc:.4f}')"
      ]
    },
    {
      "cell_type": "markdown",
      "id": "53648a60",
      "metadata": {
        "id": "53648a60"
      },
      "source": [
        "### Part F: Performance Comparison (5 points)"
      ]
    },
    {
      "cell_type": "markdown",
      "id": "e74bfd25",
      "metadata": {
        "id": "e74bfd25"
      },
      "source": [
        "**Written Answer**: The Logistic Model had an accuracy of 0.940, while the CART Model had an accuracy of .930 and the Random Forest Model had an accuracy around 0.985. The Random Forest Model had the highest accuracy and performed the best on the test set with the accuracy around 0.985. In this case, I believe that accuracy is more important than interpretability. There are a lot of variables in this dataset that are not interpretable, such as xbox, ybox, x2bar, yedgexor. Therefore, since we cannot interpret the variable’s impact on the accuracy, it would be harder to create a model that is interpretable and has a higher accuracy than what we already have. We should focus on predicting whether the letter is B and how accurate we can get our model."
      ]
    },
    {
      "cell_type": "code",
      "execution_count": 53,
      "id": "0015fa9c",
      "metadata": {
        "code_folding": [],
        "id": "0015fa9c",
        "colab": {
          "base_uri": "https://localhost:8080/"
        },
        "outputId": "26167fdc-68dd-4819-e109-4d8a0a9c92dd"
      },
      "outputs": [
        {
          "output_type": "stream",
          "name": "stdout",
          "text": [
            "Logistic Model Accuracy:  0.9401069518716577\n",
            "CART Model Accuracy:  0.93048128342246\n",
            "Random Forest Model Accuracy:  0.9850267379679144\n"
          ]
        }
      ],
      "source": [
        "# Q1F Code\n",
        "print(\"Logistic Model Accuracy: \", model_1b_acc)\n",
        "print('CART Model Accuracy: ', model_1d_acc)\n",
        "print('Random Forest Model Accuracy: ', model_1e_acc)\n",
        "# TODO: create df to compare performance/"
      ]
    },
    {
      "cell_type": "markdown",
      "id": "e4307762",
      "metadata": {
        "id": "e4307762"
      },
      "source": [
        "***\n",
        "# Question 3 (50 points)"
      ]
    },
    {
      "cell_type": "code",
      "execution_count": 54,
      "id": "0dd917ee",
      "metadata": {
        "code_folding": [],
        "id": "0dd917ee"
      },
      "outputs": [],
      "source": [
        "# TODO: Redefine target y\n",
        "train = pd.read_csv('Letters_train.csv', index_col = 0)\n",
        "test = pd.read_csv('Letters_test.csv', index_col = 0)"
      ]
    },
    {
      "cell_type": "markdown",
      "id": "e2553f29",
      "metadata": {
        "id": "e2553f29"
      },
      "source": [
        "### Part A: Baseline Model (5 points)"
      ]
    },
    {
      "cell_type": "code",
      "source": [
        "train.groupby('letter').size()"
      ],
      "metadata": {
        "colab": {
          "base_uri": "https://localhost:8080/"
        },
        "id": "-tA8y78C1-BN",
        "outputId": "6bb23504-56cc-48ca-d068-b5cd9d448bde"
      },
      "id": "-tA8y78C1-BN",
      "execution_count": 55,
      "outputs": [
        {
          "output_type": "execute_result",
          "data": {
            "text/plain": [
              "letter\n",
              "A    553\n",
              "B    555\n",
              "P    575\n",
              "R    498\n",
              "dtype: int64"
            ]
          },
          "metadata": {},
          "execution_count": 55
        }
      ]
    },
    {
      "cell_type": "code",
      "source": [
        "test.groupby('letter').size()"
      ],
      "metadata": {
        "colab": {
          "base_uri": "https://localhost:8080/"
        },
        "id": "Ub_o0ybg2Cc9",
        "outputId": "cf2bde99-e864-41fc-bdf1-589d33738293"
      },
      "id": "Ub_o0ybg2Cc9",
      "execution_count": 56,
      "outputs": [
        {
          "output_type": "execute_result",
          "data": {
            "text/plain": [
              "letter\n",
              "A    236\n",
              "B    211\n",
              "P    228\n",
              "R    260\n",
              "dtype: int64"
            ]
          },
          "metadata": {},
          "execution_count": 56
        }
      ]
    },
    {
      "cell_type": "code",
      "execution_count": 57,
      "id": "3d84b11f",
      "metadata": {
        "code_folding": [
          0
        ],
        "id": "3d84b11f",
        "colab": {
          "base_uri": "https://localhost:8080/"
        },
        "outputId": "32352161-cabf-4847-c075-9f2636d8ed1e"
      },
      "outputs": [
        {
          "output_type": "stream",
          "name": "stdout",
          "text": [
            "Baseline Test Accuracy: 0.2439\n"
          ]
        }
      ],
      "source": [
        "# Q2A\n",
        "baseline_2_acc = (228) / (236 + 211+ 228 + 260)\n",
        "print(f'Baseline Test Accuracy: {baseline_2_acc:.4f}')"
      ]
    },
    {
      "cell_type": "markdown",
      "id": "555f682d",
      "metadata": {
        "id": "555f682d"
      },
      "source": [
        "### Part B: LDA (8 points)"
      ]
    },
    {
      "cell_type": "code",
      "execution_count": 59,
      "id": "8860299d",
      "metadata": {
        "code_folding": [
          0
        ],
        "id": "8860299d",
        "colab": {
          "base_uri": "https://localhost:8080/"
        },
        "outputId": "b4a6be94-3b09-476b-c233-b82c530cd3b7"
      },
      "outputs": [
        {
          "output_type": "stream",
          "name": "stdout",
          "text": [
            "LDA Test Accuracy: 0.9102\n"
          ]
        }
      ],
      "source": [
        "# Q2B code\n",
        "xtrain_lda = train.drop(columns = {'letter'})\n",
        "xtest_lda = test.drop(columns = {'letter'})\n",
        "ytrain_lda = train['letter']\n",
        "ytest_lda = test['letter']\n",
        "\n",
        "lda = LinearDiscriminantAnalysis()\n",
        "fitted_lda = lda.fit(xtrain_lda, ytrain_lda)\n",
        "lda_pred = fitted_lda.predict(xtest_lda)\n",
        "lda_accuracy = sum(ytest_lda == lda_pred) / len(ytest_lda)\n",
        "model_2b_acc = lda_accuracy\n",
        "print(f'LDA Test Accuracy: {model_2b_acc:.4f}')"
      ]
    },
    {
      "cell_type": "markdown",
      "id": "3c75cc6e",
      "metadata": {
        "id": "3c75cc6e"
      },
      "source": [
        "### Part C: Cross-validated CART (10 points)"
      ]
    },
    {
      "cell_type": "markdown",
      "id": "21dfa50d",
      "metadata": {
        "id": "21dfa50d"
      },
      "source": [
        "**Written Answer**: In order to find the complexity parameter value that would optimize the accuracy of my model, I used GridSearchCV. I tested every value from np.linespace(0, 0.1, 200) and this time, learning from the last time, I went straight to using .best_estimator_ in order to get the best accuracy and the best ccp_alpha. The best ccp_alpha value it chose was 0.0015 and the returned CART accuracy was 0.9198."
      ]
    },
    {
      "cell_type": "code",
      "source": [
        "xtrain_cart = train.drop(columns = {'letter'})\n",
        "xtest_cart = test.drop(columns = {'letter'})\n",
        "ytrain_cart = train['letter']\n",
        "ytest_cart = test['letter']"
      ],
      "metadata": {
        "id": "EGSCgQRl-8V-"
      },
      "id": "EGSCgQRl-8V-",
      "execution_count": 67,
      "outputs": []
    },
    {
      "cell_type": "code",
      "source": [
        "grid_values = {'ccp_alpha': np.linspace(0, 0.1, 200),\n",
        "               'min_samples_leaf': [5],\n",
        "               'min_samples_split': [20],\n",
        "               'max_depth': [30],\n",
        "               'random_state': [2023]}\n",
        "\n",
        "dtc = DecisionTreeClassifier()\n",
        "dtc_cv_acc2 = GridSearchCV(dtc, param_grid = grid_values, cv=10, verbose=1,\n",
        "                              scoring = 'accuracy')\n",
        "dtc_cv_acc2.fit(xtrain_cart, ytrain_cart)"
      ],
      "metadata": {
        "colab": {
          "base_uri": "https://localhost:8080/",
          "height": 136
        },
        "id": "G-eSd5JDysCU",
        "outputId": "664b1d81-7bcc-43f0-9537-3911e9cea216"
      },
      "id": "G-eSd5JDysCU",
      "execution_count": 74,
      "outputs": [
        {
          "output_type": "stream",
          "name": "stdout",
          "text": [
            "Fitting 10 folds for each of 200 candidates, totalling 2000 fits\n"
          ]
        },
        {
          "output_type": "execute_result",
          "data": {
            "text/plain": [
              "GridSearchCV(cv=10, estimator=DecisionTreeClassifier(),\n",
              "             param_grid={'ccp_alpha': array([0.        , 0.00050251, 0.00100503, 0.00150754, 0.00201005,\n",
              "       0.00251256, 0.00301508, 0.00351759, 0.0040201 , 0.00452261,\n",
              "       0.00502513, 0.00552764, 0.00603015, 0.00653266, 0.00703518,\n",
              "       0.00753769, 0.0080402 , 0.00854271, 0.00904523, 0.00954774,\n",
              "       0.01005025, 0.01055276, 0.01105528, 0.01155779, 0.0120603 ,\n",
              "       0...\n",
              "       0.0879397 , 0.08844221, 0.08894472, 0.08944724, 0.08994975,\n",
              "       0.09045226, 0.09095477, 0.09145729, 0.0919598 , 0.09246231,\n",
              "       0.09296482, 0.09346734, 0.09396985, 0.09447236, 0.09497487,\n",
              "       0.09547739, 0.0959799 , 0.09648241, 0.09698492, 0.09748744,\n",
              "       0.09798995, 0.09849246, 0.09899497, 0.09949749, 0.1       ]),\n",
              "                         'max_depth': [30], 'min_samples_leaf': [5],\n",
              "                         'min_samples_split': [20], 'random_state': [2023]},\n",
              "             scoring='accuracy', verbose=1)"
            ],
            "text/html": [
              "<style>#sk-container-id-4 {color: black;background-color: white;}#sk-container-id-4 pre{padding: 0;}#sk-container-id-4 div.sk-toggleable {background-color: white;}#sk-container-id-4 label.sk-toggleable__label {cursor: pointer;display: block;width: 100%;margin-bottom: 0;padding: 0.3em;box-sizing: border-box;text-align: center;}#sk-container-id-4 label.sk-toggleable__label-arrow:before {content: \"▸\";float: left;margin-right: 0.25em;color: #696969;}#sk-container-id-4 label.sk-toggleable__label-arrow:hover:before {color: black;}#sk-container-id-4 div.sk-estimator:hover label.sk-toggleable__label-arrow:before {color: black;}#sk-container-id-4 div.sk-toggleable__content {max-height: 0;max-width: 0;overflow: hidden;text-align: left;background-color: #f0f8ff;}#sk-container-id-4 div.sk-toggleable__content pre {margin: 0.2em;color: black;border-radius: 0.25em;background-color: #f0f8ff;}#sk-container-id-4 input.sk-toggleable__control:checked~div.sk-toggleable__content {max-height: 200px;max-width: 100%;overflow: auto;}#sk-container-id-4 input.sk-toggleable__control:checked~label.sk-toggleable__label-arrow:before {content: \"▾\";}#sk-container-id-4 div.sk-estimator input.sk-toggleable__control:checked~label.sk-toggleable__label {background-color: #d4ebff;}#sk-container-id-4 div.sk-label input.sk-toggleable__control:checked~label.sk-toggleable__label {background-color: #d4ebff;}#sk-container-id-4 input.sk-hidden--visually {border: 0;clip: rect(1px 1px 1px 1px);clip: rect(1px, 1px, 1px, 1px);height: 1px;margin: -1px;overflow: hidden;padding: 0;position: absolute;width: 1px;}#sk-container-id-4 div.sk-estimator {font-family: monospace;background-color: #f0f8ff;border: 1px dotted black;border-radius: 0.25em;box-sizing: border-box;margin-bottom: 0.5em;}#sk-container-id-4 div.sk-estimator:hover {background-color: #d4ebff;}#sk-container-id-4 div.sk-parallel-item::after {content: \"\";width: 100%;border-bottom: 1px solid gray;flex-grow: 1;}#sk-container-id-4 div.sk-label:hover label.sk-toggleable__label {background-color: #d4ebff;}#sk-container-id-4 div.sk-serial::before {content: \"\";position: absolute;border-left: 1px solid gray;box-sizing: border-box;top: 0;bottom: 0;left: 50%;z-index: 0;}#sk-container-id-4 div.sk-serial {display: flex;flex-direction: column;align-items: center;background-color: white;padding-right: 0.2em;padding-left: 0.2em;position: relative;}#sk-container-id-4 div.sk-item {position: relative;z-index: 1;}#sk-container-id-4 div.sk-parallel {display: flex;align-items: stretch;justify-content: center;background-color: white;position: relative;}#sk-container-id-4 div.sk-item::before, #sk-container-id-4 div.sk-parallel-item::before {content: \"\";position: absolute;border-left: 1px solid gray;box-sizing: border-box;top: 0;bottom: 0;left: 50%;z-index: -1;}#sk-container-id-4 div.sk-parallel-item {display: flex;flex-direction: column;z-index: 1;position: relative;background-color: white;}#sk-container-id-4 div.sk-parallel-item:first-child::after {align-self: flex-end;width: 50%;}#sk-container-id-4 div.sk-parallel-item:last-child::after {align-self: flex-start;width: 50%;}#sk-container-id-4 div.sk-parallel-item:only-child::after {width: 0;}#sk-container-id-4 div.sk-dashed-wrapped {border: 1px dashed gray;margin: 0 0.4em 0.5em 0.4em;box-sizing: border-box;padding-bottom: 0.4em;background-color: white;}#sk-container-id-4 div.sk-label label {font-family: monospace;font-weight: bold;display: inline-block;line-height: 1.2em;}#sk-container-id-4 div.sk-label-container {text-align: center;}#sk-container-id-4 div.sk-container {/* jupyter's `normalize.less` sets `[hidden] { display: none; }` but bootstrap.min.css set `[hidden] { display: none !important; }` so we also need the `!important` here to be able to override the default hidden behavior on the sphinx rendered scikit-learn.org. See: https://github.com/scikit-learn/scikit-learn/issues/21755 */display: inline-block !important;position: relative;}#sk-container-id-4 div.sk-text-repr-fallback {display: none;}</style><div id=\"sk-container-id-4\" class=\"sk-top-container\"><div class=\"sk-text-repr-fallback\"><pre>GridSearchCV(cv=10, estimator=DecisionTreeClassifier(),\n",
              "             param_grid={&#x27;ccp_alpha&#x27;: array([0.        , 0.00050251, 0.00100503, 0.00150754, 0.00201005,\n",
              "       0.00251256, 0.00301508, 0.00351759, 0.0040201 , 0.00452261,\n",
              "       0.00502513, 0.00552764, 0.00603015, 0.00653266, 0.00703518,\n",
              "       0.00753769, 0.0080402 , 0.00854271, 0.00904523, 0.00954774,\n",
              "       0.01005025, 0.01055276, 0.01105528, 0.01155779, 0.0120603 ,\n",
              "       0...\n",
              "       0.0879397 , 0.08844221, 0.08894472, 0.08944724, 0.08994975,\n",
              "       0.09045226, 0.09095477, 0.09145729, 0.0919598 , 0.09246231,\n",
              "       0.09296482, 0.09346734, 0.09396985, 0.09447236, 0.09497487,\n",
              "       0.09547739, 0.0959799 , 0.09648241, 0.09698492, 0.09748744,\n",
              "       0.09798995, 0.09849246, 0.09899497, 0.09949749, 0.1       ]),\n",
              "                         &#x27;max_depth&#x27;: [30], &#x27;min_samples_leaf&#x27;: [5],\n",
              "                         &#x27;min_samples_split&#x27;: [20], &#x27;random_state&#x27;: [2023]},\n",
              "             scoring=&#x27;accuracy&#x27;, verbose=1)</pre><b>In a Jupyter environment, please rerun this cell to show the HTML representation or trust the notebook. <br />On GitHub, the HTML representation is unable to render, please try loading this page with nbviewer.org.</b></div><div class=\"sk-container\" hidden><div class=\"sk-item sk-dashed-wrapped\"><div class=\"sk-label-container\"><div class=\"sk-label sk-toggleable\"><input class=\"sk-toggleable__control sk-hidden--visually\" id=\"sk-estimator-id-10\" type=\"checkbox\" ><label for=\"sk-estimator-id-10\" class=\"sk-toggleable__label sk-toggleable__label-arrow\">GridSearchCV</label><div class=\"sk-toggleable__content\"><pre>GridSearchCV(cv=10, estimator=DecisionTreeClassifier(),\n",
              "             param_grid={&#x27;ccp_alpha&#x27;: array([0.        , 0.00050251, 0.00100503, 0.00150754, 0.00201005,\n",
              "       0.00251256, 0.00301508, 0.00351759, 0.0040201 , 0.00452261,\n",
              "       0.00502513, 0.00552764, 0.00603015, 0.00653266, 0.00703518,\n",
              "       0.00753769, 0.0080402 , 0.00854271, 0.00904523, 0.00954774,\n",
              "       0.01005025, 0.01055276, 0.01105528, 0.01155779, 0.0120603 ,\n",
              "       0...\n",
              "       0.0879397 , 0.08844221, 0.08894472, 0.08944724, 0.08994975,\n",
              "       0.09045226, 0.09095477, 0.09145729, 0.0919598 , 0.09246231,\n",
              "       0.09296482, 0.09346734, 0.09396985, 0.09447236, 0.09497487,\n",
              "       0.09547739, 0.0959799 , 0.09648241, 0.09698492, 0.09748744,\n",
              "       0.09798995, 0.09849246, 0.09899497, 0.09949749, 0.1       ]),\n",
              "                         &#x27;max_depth&#x27;: [30], &#x27;min_samples_leaf&#x27;: [5],\n",
              "                         &#x27;min_samples_split&#x27;: [20], &#x27;random_state&#x27;: [2023]},\n",
              "             scoring=&#x27;accuracy&#x27;, verbose=1)</pre></div></div></div><div class=\"sk-parallel\"><div class=\"sk-parallel-item\"><div class=\"sk-item\"><div class=\"sk-label-container\"><div class=\"sk-label sk-toggleable\"><input class=\"sk-toggleable__control sk-hidden--visually\" id=\"sk-estimator-id-11\" type=\"checkbox\" ><label for=\"sk-estimator-id-11\" class=\"sk-toggleable__label sk-toggleable__label-arrow\">estimator: DecisionTreeClassifier</label><div class=\"sk-toggleable__content\"><pre>DecisionTreeClassifier()</pre></div></div></div><div class=\"sk-serial\"><div class=\"sk-item\"><div class=\"sk-estimator sk-toggleable\"><input class=\"sk-toggleable__control sk-hidden--visually\" id=\"sk-estimator-id-12\" type=\"checkbox\" ><label for=\"sk-estimator-id-12\" class=\"sk-toggleable__label sk-toggleable__label-arrow\">DecisionTreeClassifier</label><div class=\"sk-toggleable__content\"><pre>DecisionTreeClassifier()</pre></div></div></div></div></div></div></div></div></div></div>"
            ]
          },
          "metadata": {},
          "execution_count": 74
        }
      ]
    },
    {
      "cell_type": "code",
      "execution_count": 77,
      "id": "80208cc3",
      "metadata": {
        "code_folding": [
          0
        ],
        "id": "80208cc3",
        "colab": {
          "base_uri": "https://localhost:8080/"
        },
        "outputId": "f3e2898c-ab80-4557-ef02-22a0e5e0d0a8"
      },
      "outputs": [
        {
          "output_type": "stream",
          "name": "stdout",
          "text": [
            "CART Test Accuracy: 0.9198\n",
            "Best ccp_alpha: 0.0015\n"
          ]
        }
      ],
      "source": [
        "# Q2C Code\n",
        "dec_tree_pred2 = dtc_cv_acc2.best_estimator_.predict(xtest_cart)\n",
        "model_1d_best_ccp_alpha = dtc_cv_acc2.best_params_['ccp_alpha']\n",
        "model_2c_acc = sum(dec_tree_pred2 == ytest_cart) / len(ytest_cart)\n",
        "model_2c_best_ccp_alpha = dtc_cv_acc2.best_params_['ccp_alpha']\n",
        "print(f'CART Test Accuracy: {model_2c_acc:.4f}')\n",
        "print(f'Best ccp_alpha: {model_2c_best_ccp_alpha:.4f}')"
      ]
    },
    {
      "cell_type": "markdown",
      "id": "1a31acb6",
      "metadata": {
        "id": "1a31acb6"
      },
      "source": [
        "### Part D: Vanilla Bagging (8 points)"
      ]
    },
    {
      "cell_type": "code",
      "execution_count": 78,
      "id": "ce7d3724",
      "metadata": {
        "code_folding": [
          0
        ],
        "id": "ce7d3724",
        "colab": {
          "base_uri": "https://localhost:8080/"
        },
        "outputId": "6f96f037-1716-4cb8-ebc9-fee69672baf0"
      },
      "outputs": [
        {
          "output_type": "stream",
          "name": "stdout",
          "text": [
            "No CV Random Forest Test Accuracy: 0.9422\n"
          ]
        }
      ],
      "source": [
        "# Q2D\n",
        "xtrain_vb = train.drop(columns = {'letter'})\n",
        "xtest_vb = test.drop(columns = {'letter'})\n",
        "ytrain_vb = train['letter']\n",
        "ytest_vb = test['letter']\n",
        "\n",
        "rf2 = RandomForestClassifier(max_features=16, min_samples_leaf=5,n_estimators = 500, random_state=2023, verbose=0)\n",
        "rf2.fit(xtrain_vb, ytrain_vb)\n",
        "rf2_pred = rf2.predict(xtest_vb)\n",
        "model_2d_acc = sum(rf2_pred == ytest_vb) / len(ytest_vb)\n",
        "print(f'No CV Random Forest Test Accuracy: {model_2d_acc:.4f}')"
      ]
    },
    {
      "cell_type": "markdown",
      "id": "903d3365",
      "metadata": {
        "id": "903d3365"
      },
      "source": [
        "### Part E: Cross-validated Random Forest (10 points)"
      ]
    },
    {
      "cell_type": "markdown",
      "id": "0ad086a5",
      "metadata": {
        "id": "0ad086a5"
      },
      "source": [
        "**Written Answer**: In order to find the maximum features value that would optimize the accuracy of my model, I used GridSearchCV. I tested every value from np.linespace(1, 16, 16). I used ten folds for cross-validation because the dataset was big. First I set the n_estimators to around 400 but I realized that it was just running on and on forever. So I brought down the n_estimators value to 200 and it was able to finish running after a while. Using the best parameters that I found through cross-validation, I used the model to predict values and compared them to the test data. This gave a validation accuracy of 0.9658."
      ]
    },
    {
      "cell_type": "code",
      "source": [
        "xtrain_crf = train.drop(columns = {'letter'})\n",
        "xtest_crf = test.drop(columns = {'letter'})\n",
        "ytrain_crf = train['letter']\n",
        "ytest_crf = test['letter']"
      ],
      "metadata": {
        "id": "skVEDDr66RtI"
      },
      "id": "skVEDDr66RtI",
      "execution_count": 79,
      "outputs": []
    },
    {
      "cell_type": "code",
      "source": [
        "grid_values = {'max_features': np.linspace(1,16,16, dtype='int32'),\n",
        "               'min_samples_leaf': [5],\n",
        "               'n_estimators': [200],\n",
        "               'random_state': [2023]}\n",
        "rf3 = RandomForestClassifier()\n",
        "rf_cv = GridSearchCV(rf3, param_grid=grid_values, scoring='accuracy', cv=10,verbose=0,n_jobs=-1).fit(xtrain_crf, ytrain_crf)"
      ],
      "metadata": {
        "id": "ZKlRYZ8p6VI6"
      },
      "id": "ZKlRYZ8p6VI6",
      "execution_count": 80,
      "outputs": []
    },
    {
      "cell_type": "code",
      "execution_count": 83,
      "id": "f2bae54c",
      "metadata": {
        "code_folding": [
          0
        ],
        "id": "f2bae54c",
        "colab": {
          "base_uri": "https://localhost:8080/"
        },
        "outputId": "c601740c-ec9e-4bab-85c4-c6a012e820e4"
      },
      "outputs": [
        {
          "output_type": "stream",
          "name": "stdout",
          "text": [
            "CV Random Forest Test Accuracy: 0.9658\n"
          ]
        }
      ],
      "source": [
        "# Q2E\n",
        "rf_crf_best_model = RandomForestClassifier(max_features = rf_cv.best_params_['max_features'], min_samples_leaf=5, n_estimators = 200, random_state=2023, verbose=0)\n",
        "rf_crf_best_model.fit(xtrain_crf, ytrain_crf)\n",
        "rf_crf_pred = rf_crf_best_model.predict(xtest_crf)\n",
        "model_2e_acc = sum(rf_crf_pred == ytest_crf) / len(ytest_crf)\n",
        "print(f'CV Random Forest Test Accuracy: {model_2e_acc:.4f}')"
      ]
    },
    {
      "cell_type": "markdown",
      "id": "1969e7f2",
      "metadata": {
        "id": "1969e7f2"
      },
      "source": [
        "### Part F: Gradient Boosting Classifier (9 points)"
      ]
    },
    {
      "cell_type": "code",
      "execution_count": 84,
      "id": "f9bd4e72",
      "metadata": {
        "code_folding": [
          0
        ],
        "id": "f9bd4e72",
        "colab": {
          "base_uri": "https://localhost:8080/"
        },
        "outputId": "c83e3316-dcaa-435d-dd45-eb8c8040d6ee"
      },
      "outputs": [
        {
          "output_type": "stream",
          "name": "stdout",
          "text": [
            "GBC Test Accuracy: 0.9636\n"
          ]
        }
      ],
      "source": [
        "# Q2F\n",
        "xtrain_gbc = train.drop(columns = {'letter'})\n",
        "xtest_gbc = test.drop(columns = {'letter'})\n",
        "ytrain_gbc = train['letter']\n",
        "ytest_gbc = test['letter']\n",
        "\n",
        "gbc = GradientBoostingClassifier(n_estimators=500, max_leaf_nodes=10, random_state=2023)\n",
        "gbc.fit(xtrain_gbc, ytrain_gbc)\n",
        "gbc_pred = gbc.predict(xtest_gbc)\n",
        "model_2f_acc = sum(gbc_pred == ytest_gbc) / len(ytest_gbc)\n",
        "print(f'GBC Test Accuracy: {model_2f_acc:.4f}')"
      ]
    },
    {
      "cell_type": "code",
      "execution_count": null,
      "id": "1882bcbb",
      "metadata": {
        "id": "1882bcbb"
      },
      "outputs": [],
      "source": []
    }
  ],
  "metadata": {
    "colab": {
      "provenance": []
    },
    "kernelspec": {
      "display_name": "Python 3 (ipykernel)",
      "language": "python",
      "name": "python3"
    },
    "language_info": {
      "codemirror_mode": {
        "name": "ipython",
        "version": 3
      },
      "file_extension": ".py",
      "mimetype": "text/x-python",
      "name": "python",
      "nbconvert_exporter": "python",
      "pygments_lexer": "ipython3",
      "version": "3.9.15"
    }
  },
  "nbformat": 4,
  "nbformat_minor": 5
}